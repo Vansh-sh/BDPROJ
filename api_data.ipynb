{
  "nbformat": 4,
  "nbformat_minor": 0,
  "metadata": {
    "colab": {
      "provenance": []
    },
    "kernelspec": {
      "name": "python3",
      "display_name": "Python 3"
    },
    "language_info": {
      "name": "python"
    }
  },
  "cells": [
    {
      "cell_type": "code",
      "source": [
        "!pip install newspaper3k"
      ],
      "metadata": {
        "id": "44vd9zJVgB_r"
      },
      "execution_count": null,
      "outputs": []
    },
    {
      "cell_type": "code",
      "execution_count": null,
      "metadata": {
        "id": "Cgw6Nj9lRVsG"
      },
      "outputs": [],
      "source": [
        "import requests\n",
        "from datetime import datetime\n",
        "import pytz\n",
        "import numpy as np\n",
        "import pandas as pd\n",
        "from newspaper import Article\n",
        "import regex as re"
      ]
    },
    {
      "cell_type": "code",
      "source": [
        "from google.colab import drive\n",
        "drive.mount('/content/drive')"
      ],
      "metadata": {
        "colab": {
          "base_uri": "https://localhost:8080/"
        },
        "id": "stSdEwksf4np",
        "outputId": "51aec486-a3ca-4227-c4b8-dbd727830179"
      },
      "execution_count": null,
      "outputs": [
        {
          "output_type": "stream",
          "name": "stdout",
          "text": [
            "Mounted at /content/drive\n"
          ]
        }
      ]
    },
    {
      "cell_type": "code",
      "source": [
        "apis=[\"pub_435954631e5544a4678d9066e8ffa4e737a4e\",\n",
        "      \"pub_43596dfe9f3433fb1c42cd8443508fdd5fb68\",\n",
        "      \"pub_4359806e437fcb628c31a6aa44b2064234777\",\n",
        "      \"pub_435994e8b13a35ee3169152f8886facc0cb46\",\n",
        "      \"pub_43601ef177c0d2d0d5afbb97977fc7e90615d\",\n",
        "      \"pub_43603d13779573b91f9e64ebce3bf9b2a87d6\",\n",
        "      \"pub_43605ed4a7bc8696257e89e37a5c74f4f4150\",\n",
        "      \"pub_43606e4e90115eb7fba8972d9e6dd7162c80b\",\n",
        "      \"pub_43609f5fe0d9ba8090d4c775f3485a8807e49\",\n",
        "      \"pub_43610bf67edce669baf9cc2e6317ba21dc557\",\n",
        "      \"pub_43612f6e8b58205389a3a347b32606f6cb9d8\",\n",
        "      \"pub_436131b55ee8eb901a6dfb6543e5332a593ba\",\n",
        "      \"pub_4361605d402f133d10aa8484ed2d00c238295\",\n",
        "      \"pub_43617ecc1cf23836ccb12ae89568cebaf8d58\",\n",
        "      \"pub_4361889cfabb533d1c648320d7c8c1b4d975e\",\n",
        "      \"pub_43620e3c724184aca5d3ddd997d8c60e5ccb7\",\n",
        "      \"pub_43621ee475861ae8e36d1dc796bf5b44bb643\",\n",
        "      \"pub_43622f3dfc84284b1eaa4b1f23252101b12f0\",\n",
        "      \"pub_43623153d19c6ebccf8d41418824c128333e8\",\n",
        "      \"pub_436240f8072416d11b7d0d709179ba2737b34\"]"
      ],
      "metadata": {
        "id": "kmMUxyk42ROn"
      },
      "execution_count": null,
      "outputs": []
    },
    {
      "cell_type": "code",
      "source": [
        "articles_list = []\n",
        "page=None\n",
        "\n",
        "for api in apis:\n",
        "  if page is None:\n",
        "    url = f\"https://newsdata.io/api/1/news?apikey={api}&country=in&language=en\"\n",
        "    data = requests.get(url).json()\n",
        "  else:\n",
        "    url = f\"https://newsdata.io/api/1/news?apikey={api}&country=in&language=en&page={page}\"\n",
        "    data = requests.get(url).json()\n",
        "\n",
        "  if data[\"status\"]==\"success\":\n",
        "    for article in data['results']:\n",
        "      id = article['article_id']\n",
        "      source = article['source_id']\n",
        "      category = article['category']\n",
        "      title = article['title']\n",
        "      link = article['link']\n",
        "      pubDate = article['pubDate']\n",
        "      ist_time = datetime.strptime(pubDate, \"%Y-%m-%d %H:%M:%S\").astimezone(pytz.timezone('Asia/Kolkata')).strftime(\"%Y-%m-%d %H:%M:%S\")\n",
        "      articles_list.append({'ID': id, 'Source': source, 'Category': category, 'Title': title, 'Link': link, 'PubDate': ist_time})\n",
        "\n",
        "  page=data[\"nextPage\"]\n",
        "\n",
        "  while True:\n",
        "    url = f\"https://newsdata.io/api/1/news?apikey={api}&country=in&language=en&page={page}\"\n",
        "    data = requests.get(url).json()\n",
        "\n",
        "    if data[\"status\"]!=\"success\":\n",
        "      break\n",
        "\n",
        "    for article in data['results']:\n",
        "      id = article['article_id']\n",
        "      source = article['source_id']\n",
        "      category = article['category']\n",
        "      title = article['title']\n",
        "      link = article['link']\n",
        "      pubDate = article['pubDate']\n",
        "      ist_time = datetime.strptime(pubDate, \"%Y-%m-%d %H:%M:%S\").astimezone(pytz.timezone('Asia/Kolkata')).strftime(\"%Y-%m-%d %H:%M:%S\")\n",
        "      page=data[\"nextPage\"]\n",
        "      status=data[\"status\"]\n",
        "      articles_list.append({'ID': id, 'Source': source, 'Category': category, 'Title': title, 'Link': link, 'PubDate': ist_time})\n",
        "\n",
        "df = pd.DataFrame(articles_list)"
      ],
      "metadata": {
        "id": "JifQHH4I2Zu1"
      },
      "execution_count": null,
      "outputs": []
    },
    {
      "cell_type": "code",
      "source": [
        "df['PubDate'] = pd.to_datetime(df['PubDate'])\n",
        "df = df.sort_values(by='PubDate')"
      ],
      "metadata": {
        "id": "lQvvmlxSuG5w"
      },
      "execution_count": null,
      "outputs": []
    },
    {
      "cell_type": "code",
      "source": [
        "def extract_text(row):\n",
        "    try:\n",
        "        article = Article(row['Link'])\n",
        "        article.download()\n",
        "        article.parse()\n",
        "        text = article.text\n",
        "        return text\n",
        "    except:\n",
        "        return None\n",
        "df['Body'] = df.apply(extract_text, axis=1)"
      ],
      "metadata": {
        "id": "0hlBv-w5K2uK",
        "colab": {
          "base_uri": "https://localhost:8080/"
        },
        "outputId": "13fa0f98-00d1-4bc2-b582-1edd456b469a"
      },
      "execution_count": null,
      "outputs": [
        {
          "output_type": "stream",
          "name": "stderr",
          "text": [
            "/usr/local/lib/python3.10/dist-packages/dateutil/parser/_parser.py:1207: UnknownTimezoneWarning: tzname IST identified but not understood.  Pass `tzinfos` argument in order to correctly return a timezone-aware datetime.  In a future version, this will raise an exception.\n",
            "  warnings.warn(\"tzname {tzname} identified but not understood.  \"\n"
          ]
        }
      ]
    },
    {
      "cell_type": "code",
      "source": [
        "df = df.dropna()"
      ],
      "metadata": {
        "id": "WEp2QPx2aKb6"
      },
      "execution_count": null,
      "outputs": []
    },
    {
      "cell_type": "code",
      "source": [
        "def cleaning(text):\n",
        "  cleaned_text = text.replace('\\\\n',\" \")                              # removal of new line symbol \\n\n",
        "\n",
        "  cleaned_text = re.sub(r'\\s+',\" \",cleaned_text)                      # Removal of additional white space\n",
        "\n",
        "  return cleaned_text\n",
        "\n",
        "df['Body']=df['Body'].apply(cleaning)"
      ],
      "metadata": {
        "id": "4LfmBd4NZOAP"
      },
      "execution_count": null,
      "outputs": []
    },
    {
      "cell_type": "code",
      "source": [
        "def count_words(text):\n",
        "    if text is not None:\n",
        "        return len(text.split())\n",
        "    else:\n",
        "        return None\n",
        "df['Number of Words'] = df['Body'].apply(count_words)"
      ],
      "metadata": {
        "id": "evmZZ-jETPEJ"
      },
      "execution_count": null,
      "outputs": []
    },
    {
      "cell_type": "code",
      "source": [
        "df = df[df['Number of Words'] > 100]"
      ],
      "metadata": {
        "id": "lqKIp3FJTq21"
      },
      "execution_count": null,
      "outputs": []
    },
    {
      "cell_type": "code",
      "source": [
        "df.to_csv(\"/content/drive/MyDrive/data.csv\",index=False)"
      ],
      "metadata": {
        "id": "4S7bInv7_DOk"
      },
      "execution_count": null,
      "outputs": []
    },
    {
      "cell_type": "code",
      "source": [],
      "metadata": {
        "id": "4JQoDtIi8Hzp"
      },
      "execution_count": null,
      "outputs": []
    },
    {
      "cell_type": "code",
      "source": [],
      "metadata": {
        "id": "f1idFvX28HxK"
      },
      "execution_count": null,
      "outputs": []
    },
    {
      "cell_type": "code",
      "source": [],
      "metadata": {
        "id": "TCbM56j88Hug"
      },
      "execution_count": null,
      "outputs": []
    },
    {
      "cell_type": "code",
      "source": [],
      "metadata": {
        "id": "ValKbSV68HsJ"
      },
      "execution_count": null,
      "outputs": []
    },
    {
      "cell_type": "code",
      "source": [],
      "metadata": {
        "id": "ym-o2rdL8HpY"
      },
      "execution_count": null,
      "outputs": []
    }
  ]
}